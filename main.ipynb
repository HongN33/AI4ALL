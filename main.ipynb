{
    "metadata": {
        "kernelspec": {
            "name": "python3",
            "display_name": "Python 3 (ipykernel)",
            "language": "python"
        }
    },
    "nbformat": 4,
    "nbformat_minor": 2,
    "cells": [
        {
            "cell_type": "code",
            "execution_count": 19,
            "metadata": {},
            "outputs": [],
            "source": [
                "import pandas as pd\n",
                "import numpy as np\n",
                "from matplotlib import pyplot as plt\n",
                "import numpy as np\n",
                "%matplotlib inline "
            ]
        },
        {
            "cell_type": "code",
            "execution_count": 20,
            "metadata": {},
            "outputs": [],
            "source": [
                "df = pd.read_csv('originalfile.csv',engine='python')"
            ]
        },
        {
            "cell_type": "code",
            "execution_count": 21,
            "metadata": {},
            "outputs": [
                {
                    "name": "stdout",
                    "output_type": "stream",
                    "text": "\u003cclass 'pandas.core.frame.DataFrame'\u003e\nRangeIndex: 499 entries, 0 to 498\nData columns (total 6 columns):\n #   Column  Non-Null Count  Dtype\n---  ------  --------------  -----\n 0   AGE     499 non-null    int64\n 1   FEMALE  499 non-null    int64\n 2   LOS     499 non-null    int64\n 3   RACE    499 non-null    int64\n 4   TOTCHG  499 non-null    int64\n 5   APRDRG  499 non-null    int64\ndtypes: int64(6)\nmemory usage: 23.5 KB\n"
                }
            ],
            "source": [
                "df.info()"
            ]
        },
        {
            "cell_type": "code",
            "execution_count": 22,
            "metadata": {},
            "outputs": [
                {
                    "data": {
                        "text/html": "\u003cdiv\u003e\n\u003cstyle scoped\u003e\n    .dataframe tbody tr th:only-of-type {\n        vertical-align: middle;\n    }\n\n    .dataframe tbody tr th {\n        vertical-align: top;\n    }\n\n    .dataframe thead th {\n        text-align: right;\n    }\n\u003c/style\u003e\n\u003ctable border=\"1\" class=\"dataframe\"\u003e\n  \u003cthead\u003e\n    \u003ctr style=\"text-align: right;\"\u003e\n      \u003cth\u003e\u003c/th\u003e\n      \u003cth\u003eAGE\u003c/th\u003e\n      \u003cth\u003eFEMALE\u003c/th\u003e\n      \u003cth\u003eLOS\u003c/th\u003e\n      \u003cth\u003eRACE\u003c/th\u003e\n      \u003cth\u003eTOTCHG\u003c/th\u003e\n      \u003cth\u003eAPRDRG\u003c/th\u003e\n    \u003c/tr\u003e\n  \u003c/thead\u003e\n  \u003ctbody\u003e\n    \u003ctr\u003e\n      \u003cth\u003e0\u003c/th\u003e\n      \u003ctd\u003e17\u003c/td\u003e\n      \u003ctd\u003e1\u003c/td\u003e\n      \u003ctd\u003e2\u003c/td\u003e\n      \u003ctd\u003e1\u003c/td\u003e\n      \u003ctd\u003e2660\u003c/td\u003e\n      \u003ctd\u003e560\u003c/td\u003e\n    \u003c/tr\u003e\n    \u003ctr\u003e\n      \u003cth\u003e1\u003c/th\u003e\n      \u003ctd\u003e17\u003c/td\u003e\n      \u003ctd\u003e0\u003c/td\u003e\n      \u003ctd\u003e2\u003c/td\u003e\n      \u003ctd\u003e1\u003c/td\u003e\n      \u003ctd\u003e1689\u003c/td\u003e\n      \u003ctd\u003e753\u003c/td\u003e\n    \u003c/tr\u003e\n    \u003ctr\u003e\n      \u003cth\u003e2\u003c/th\u003e\n      \u003ctd\u003e17\u003c/td\u003e\n      \u003ctd\u003e1\u003c/td\u003e\n      \u003ctd\u003e7\u003c/td\u003e\n      \u003ctd\u003e1\u003c/td\u003e\n      \u003ctd\u003e20060\u003c/td\u003e\n      \u003ctd\u003e930\u003c/td\u003e\n    \u003c/tr\u003e\n    \u003ctr\u003e\n      \u003cth\u003e3\u003c/th\u003e\n      \u003ctd\u003e17\u003c/td\u003e\n      \u003ctd\u003e1\u003c/td\u003e\n      \u003ctd\u003e1\u003c/td\u003e\n      \u003ctd\u003e1\u003c/td\u003e\n      \u003ctd\u003e736\u003c/td\u003e\n      \u003ctd\u003e758\u003c/td\u003e\n    \u003c/tr\u003e\n    \u003ctr\u003e\n      \u003cth\u003e4\u003c/th\u003e\n      \u003ctd\u003e17\u003c/td\u003e\n      \u003ctd\u003e1\u003c/td\u003e\n      \u003ctd\u003e1\u003c/td\u003e\n      \u003ctd\u003e1\u003c/td\u003e\n      \u003ctd\u003e1194\u003c/td\u003e\n      \u003ctd\u003e754\u003c/td\u003e\n    \u003c/tr\u003e\n    \u003ctr\u003e\n      \u003cth\u003e5\u003c/th\u003e\n      \u003ctd\u003e17\u003c/td\u003e\n      \u003ctd\u003e0\u003c/td\u003e\n      \u003ctd\u003e0\u003c/td\u003e\n      \u003ctd\u003e1\u003c/td\u003e\n      \u003ctd\u003e3305\u003c/td\u003e\n      \u003ctd\u003e347\u003c/td\u003e\n    \u003c/tr\u003e\n    \u003ctr\u003e\n      \u003cth\u003e6\u003c/th\u003e\n      \u003ctd\u003e17\u003c/td\u003e\n      \u003ctd\u003e1\u003c/td\u003e\n      \u003ctd\u003e4\u003c/td\u003e\n      \u003ctd\u003e1\u003c/td\u003e\n      \u003ctd\u003e2205\u003c/td\u003e\n      \u003ctd\u003e754\u003c/td\u003e\n    \u003c/tr\u003e\n    \u003ctr\u003e\n      \u003cth\u003e7\u003c/th\u003e\n      \u003ctd\u003e16\u003c/td\u003e\n      \u003ctd\u003e1\u003c/td\u003e\n      \u003ctd\u003e2\u003c/td\u003e\n      \u003ctd\u003e1\u003c/td\u003e\n      \u003ctd\u003e1167\u003c/td\u003e\n      \u003ctd\u003e754\u003c/td\u003e\n    \u003c/tr\u003e\n    \u003ctr\u003e\n      \u003cth\u003e8\u003c/th\u003e\n      \u003ctd\u003e16\u003c/td\u003e\n      \u003ctd\u003e1\u003c/td\u003e\n      \u003ctd\u003e1\u003c/td\u003e\n      \u003ctd\u003e1\u003c/td\u003e\n      \u003ctd\u003e532\u003c/td\u003e\n      \u003ctd\u003e753\u003c/td\u003e\n    \u003c/tr\u003e\n    \u003ctr\u003e\n      \u003cth\u003e9\u003c/th\u003e\n      \u003ctd\u003e17\u003c/td\u003e\n      \u003ctd\u003e1\u003c/td\u003e\n      \u003ctd\u003e2\u003c/td\u003e\n      \u003ctd\u003e1\u003c/td\u003e\n      \u003ctd\u003e1363\u003c/td\u003e\n      \u003ctd\u003e758\u003c/td\u003e\n    \u003c/tr\u003e\n  \u003c/tbody\u003e\n\u003c/table\u003e\n\u003c/div\u003e",
                        "text/plain": "   AGE  FEMALE  LOS  RACE  TOTCHG  APRDRG\n0   17       1    2     1    2660     560\n1   17       0    2     1    1689     753\n2   17       1    7     1   20060     930\n3   17       1    1     1     736     758\n4   17       1    1     1    1194     754\n5   17       0    0     1    3305     347\n6   17       1    4     1    2205     754\n7   16       1    2     1    1167     754\n8   16       1    1     1     532     753\n9   17       1    2     1    1363     758"
                    },
                    "execution_count": 22,
                    "metadata": {},
                    "output_type": "execute_result"
                }
            ],
            "source": [
                "df.head(10)"
            ]
        },
        {
            "cell_type": "code",
            "execution_count": 23,
            "metadata": {},
            "outputs": [
                {
                    "data": {
                        "text/html": "\u003cdiv\u003e\n\u003cstyle scoped\u003e\n    .dataframe tbody tr th:only-of-type {\n        vertical-align: middle;\n    }\n\n    .dataframe tbody tr th {\n        vertical-align: top;\n    }\n\n    .dataframe thead th {\n        text-align: right;\n    }\n\u003c/style\u003e\n\u003ctable border=\"1\" class=\"dataframe\"\u003e\n  \u003cthead\u003e\n    \u003ctr style=\"text-align: right;\"\u003e\n      \u003cth\u003e\u003c/th\u003e\n      \u003cth\u003eAGE\u003c/th\u003e\n      \u003cth\u003eFEMALE\u003c/th\u003e\n      \u003cth\u003eLOS\u003c/th\u003e\n      \u003cth\u003eRACE\u003c/th\u003e\n      \u003cth\u003eTOTCHG\u003c/th\u003e\n      \u003cth\u003eAPRDRG\u003c/th\u003e\n    \u003c/tr\u003e\n  \u003c/thead\u003e\n  \u003ctbody\u003e\n    \u003ctr\u003e\n      \u003cth\u003ecount\u003c/th\u003e\n      \u003ctd\u003e499.000000\u003c/td\u003e\n      \u003ctd\u003e499.000000\u003c/td\u003e\n      \u003ctd\u003e499.000000\u003c/td\u003e\n      \u003ctd\u003e499.000000\u003c/td\u003e\n      \u003ctd\u003e499.000000\u003c/td\u003e\n      \u003ctd\u003e499.000000\u003c/td\u003e\n    \u003c/tr\u003e\n    \u003ctr\u003e\n      \u003cth\u003emean\u003c/th\u003e\n      \u003ctd\u003e5.096192\u003c/td\u003e\n      \u003ctd\u003e0.511022\u003c/td\u003e\n      \u003ctd\u003e2.829659\u003c/td\u003e\n      \u003ctd\u003e1.078156\u003c/td\u003e\n      \u003ctd\u003e2777.631263\u003c/td\u003e\n      \u003ctd\u003e616.312625\u003c/td\u003e\n    \u003c/tr\u003e\n    \u003ctr\u003e\n      \u003cth\u003estd\u003c/th\u003e\n      \u003ctd\u003e6.952706\u003c/td\u003e\n      \u003ctd\u003e0.500380\u003c/td\u003e\n      \u003ctd\u003e3.366657\u003c/td\u003e\n      \u003ctd\u003e0.514746\u003c/td\u003e\n      \u003ctd\u003e3891.632405\u003c/td\u003e\n      \u003ctd\u003e178.491837\u003c/td\u003e\n    \u003c/tr\u003e\n    \u003ctr\u003e\n      \u003cth\u003emin\u003c/th\u003e\n      \u003ctd\u003e0.000000\u003c/td\u003e\n      \u003ctd\u003e0.000000\u003c/td\u003e\n      \u003ctd\u003e0.000000\u003c/td\u003e\n      \u003ctd\u003e1.000000\u003c/td\u003e\n      \u003ctd\u003e532.000000\u003c/td\u003e\n      \u003ctd\u003e21.000000\u003c/td\u003e\n    \u003c/tr\u003e\n    \u003ctr\u003e\n      \u003cth\u003e25%\u003c/th\u003e\n      \u003ctd\u003e0.000000\u003c/td\u003e\n      \u003ctd\u003e0.000000\u003c/td\u003e\n      \u003ctd\u003e2.000000\u003c/td\u003e\n      \u003ctd\u003e1.000000\u003c/td\u003e\n      \u003ctd\u003e1218.500000\u003c/td\u003e\n      \u003ctd\u003e640.000000\u003c/td\u003e\n    \u003c/tr\u003e\n    \u003ctr\u003e\n      \u003cth\u003e50%\u003c/th\u003e\n      \u003ctd\u003e0.000000\u003c/td\u003e\n      \u003ctd\u003e1.000000\u003c/td\u003e\n      \u003ctd\u003e2.000000\u003c/td\u003e\n      \u003ctd\u003e1.000000\u003c/td\u003e\n      \u003ctd\u003e1538.000000\u003c/td\u003e\n      \u003ctd\u003e640.000000\u003c/td\u003e\n    \u003c/tr\u003e\n    \u003ctr\u003e\n      \u003cth\u003e75%\u003c/th\u003e\n      \u003ctd\u003e13.000000\u003c/td\u003e\n      \u003ctd\u003e1.000000\u003c/td\u003e\n      \u003ctd\u003e3.000000\u003c/td\u003e\n      \u003ctd\u003e1.000000\u003c/td\u003e\n      \u003ctd\u003e2530.500000\u003c/td\u003e\n      \u003ctd\u003e751.000000\u003c/td\u003e\n    \u003c/tr\u003e\n    \u003ctr\u003e\n      \u003cth\u003emax\u003c/th\u003e\n      \u003ctd\u003e17.000000\u003c/td\u003e\n      \u003ctd\u003e1.000000\u003c/td\u003e\n      \u003ctd\u003e41.000000\u003c/td\u003e\n      \u003ctd\u003e6.000000\u003c/td\u003e\n      \u003ctd\u003e48388.000000\u003c/td\u003e\n      \u003ctd\u003e952.000000\u003c/td\u003e\n    \u003c/tr\u003e\n  \u003c/tbody\u003e\n\u003c/table\u003e\n\u003c/div\u003e",
                        "text/plain": "              AGE      FEMALE         LOS        RACE        TOTCHG  \\\ncount  499.000000  499.000000  499.000000  499.000000    499.000000   \nmean     5.096192    0.511022    2.829659    1.078156   2777.631263   \nstd      6.952706    0.500380    3.366657    0.514746   3891.632405   \nmin      0.000000    0.000000    0.000000    1.000000    532.000000   \n25%      0.000000    0.000000    2.000000    1.000000   1218.500000   \n50%      0.000000    1.000000    2.000000    1.000000   1538.000000   \n75%     13.000000    1.000000    3.000000    1.000000   2530.500000   \nmax     17.000000    1.000000   41.000000    6.000000  48388.000000   \n\n           APRDRG  \ncount  499.000000  \nmean   616.312625  \nstd    178.491837  \nmin     21.000000  \n25%    640.000000  \n50%    640.000000  \n75%    751.000000  \nmax    952.000000  "
                    },
                    "execution_count": 23,
                    "metadata": {},
                    "output_type": "execute_result"
                }
            ],
            "source": [
                "df.describe()"
            ]
        },
        {
            "cell_type": "code",
            "execution_count": 24,
            "metadata": {},
            "outputs": [
                {
                    "data": {
                        "text/plain": "Index(['AGE', 'FEMALE', 'LOS', 'RACE', 'TOTCHG', 'APRDRG'], dtype='object')"
                    },
                    "execution_count": 24,
                    "metadata": {},
                    "output_type": "execute_result"
                }
            ],
            "source": [
                "df.columns"
            ]
        },
        {
            "cell_type": "code",
            "execution_count": 25,
            "metadata": {},
            "outputs": [
                {
                    "data": {
                        "text/html": "\u003cdiv\u003e\n\u003cstyle scoped\u003e\n    .dataframe tbody tr th:only-of-type {\n        vertical-align: middle;\n    }\n\n    .dataframe tbody tr th {\n        vertical-align: top;\n    }\n\n    .dataframe thead th {\n        text-align: right;\n    }\n\u003c/style\u003e\n\u003ctable border=\"1\" class=\"dataframe\"\u003e\n  \u003cthead\u003e\n    \u003ctr style=\"text-align: right;\"\u003e\n      \u003cth\u003e\u003c/th\u003e\n      \u003cth\u003eAGE\u003c/th\u003e\n      \u003cth\u003eFEMALE\u003c/th\u003e\n      \u003cth\u003eLOS\u003c/th\u003e\n      \u003cth\u003eRACE\u003c/th\u003e\n      \u003cth\u003eTOTCHG\u003c/th\u003e\n      \u003cth\u003eAPRDRG\u003c/th\u003e\n    \u003c/tr\u003e\n  \u003c/thead\u003e\n  \u003ctbody\u003e\n    \u003ctr\u003e\n      \u003cth\u003e494\u003c/th\u003e\n      \u003ctd\u003e0\u003c/td\u003e\n      \u003ctd\u003e1\u003c/td\u003e\n      \u003ctd\u003e6\u003c/td\u003e\n      \u003ctd\u003e1\u003c/td\u003e\n      \u003ctd\u003e5881\u003c/td\u003e\n      \u003ctd\u003e636\u003c/td\u003e\n    \u003c/tr\u003e\n    \u003ctr\u003e\n      \u003cth\u003e495\u003c/th\u003e\n      \u003ctd\u003e0\u003c/td\u003e\n      \u003ctd\u003e1\u003c/td\u003e\n      \u003ctd\u003e2\u003c/td\u003e\n      \u003ctd\u003e1\u003c/td\u003e\n      \u003ctd\u003e1171\u003c/td\u003e\n      \u003ctd\u003e640\u003c/td\u003e\n    \u003c/tr\u003e\n    \u003ctr\u003e\n      \u003cth\u003e496\u003c/th\u003e\n      \u003ctd\u003e0\u003c/td\u003e\n      \u003ctd\u003e1\u003c/td\u003e\n      \u003ctd\u003e2\u003c/td\u003e\n      \u003ctd\u003e1\u003c/td\u003e\n      \u003ctd\u003e1171\u003c/td\u003e\n      \u003ctd\u003e640\u003c/td\u003e\n    \u003c/tr\u003e\n    \u003ctr\u003e\n      \u003cth\u003e497\u003c/th\u003e\n      \u003ctd\u003e0\u003c/td\u003e\n      \u003ctd\u003e1\u003c/td\u003e\n      \u003ctd\u003e2\u003c/td\u003e\n      \u003ctd\u003e1\u003c/td\u003e\n      \u003ctd\u003e1086\u003c/td\u003e\n      \u003ctd\u003e640\u003c/td\u003e\n    \u003c/tr\u003e\n    \u003ctr\u003e\n      \u003cth\u003e498\u003c/th\u003e\n      \u003ctd\u003e0\u003c/td\u003e\n      \u003ctd\u003e0\u003c/td\u003e\n      \u003ctd\u003e4\u003c/td\u003e\n      \u003ctd\u003e1\u003c/td\u003e\n      \u003ctd\u003e4931\u003c/td\u003e\n      \u003ctd\u003e640\u003c/td\u003e\n    \u003c/tr\u003e\n  \u003c/tbody\u003e\n\u003c/table\u003e\n\u003c/div\u003e",
                        "text/plain": "     AGE  FEMALE  LOS  RACE  TOTCHG  APRDRG\n494    0       1    6     1    5881     636\n495    0       1    2     1    1171     640\n496    0       1    2     1    1171     640\n497    0       1    2     1    1086     640\n498    0       0    4     1    4931     640"
                    },
                    "execution_count": 25,
                    "metadata": {},
                    "output_type": "execute_result"
                }
            ],
            "source": [
                "df.tail() # Check the bottom 5 rows"
            ]
        },
        {
            "attachments": {},
            "cell_type": "markdown",
            "metadata": {},
            "source": [
                "# Missing Data\n",
                "Some columns have missing values. For our analysis, we only want to keep rows with complete data.\n",
                "Note that \"NaN\" stands for \"Not a Number\" and means the data is missing."
            ]
        },
        {
            "cell_type": "code",
            "execution_count": 26,
            "metadata": {},
            "outputs": [
                {
                    "data": {
                        "text/plain": "AGE       False\nFEMALE    False\nLOS       False\nRACE      False\nTOTCHG    False\nAPRDRG    False\ndtype: bool"
                    },
                    "execution_count": 26,
                    "metadata": {},
                    "output_type": "execute_result"
                }
            ],
            "source": [
                "# This will give us a list of the columns that contain NaN \n",
                "# NaN stands for \"Not a Number\", or that there is no value in there (it's missing)\n",
                "# Note: edit your file to get rid of the null entries until the code returns False for all columns\n",
                "pd.isnull(df).sum() \u003e 0"
            ]
        }
    ]
}
