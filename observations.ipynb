{
    "metadata": {
        "kernelspec": {
            "name": "python3",
            "display_name": "Python 3 (ipykernel)",
            "language": "python"
        }
    },
    "nbformat": 4,
    "nbformat_minor": 2,
    "cells": [
        {
            "attachments": {},
            "cell_type": "markdown",
            "metadata": {},
            "source": [
                "**Describe the problem that you chose to solve. How is it related to the topic that your team will investigate for the Discover AI project?**"
            ]
        },
        {
            "attachments": {},
            "cell_type": "markdown",
            "metadata": {},
            "source": [
                "I chose to solve the classification problem in Supervised Learning section. It's related to the topic that I'm interested in (medical field and access to healthcare) that my team will investigate for the project."
            ]
        },
        {
            "attachments": {},
            "cell_type": "markdown",
            "metadata": {},
            "source": [
                "**Did you have to clean your dataset? If yes, desribe what you did.**"
            ]
        },
        {
            "attachments": {},
            "cell_type": "markdown",
            "metadata": {},
            "source": [
                "Yes. I had to edit the data file and get rid of 1 null value in one of the columns (column called LOS)."
            ]
        },
        {
            "attachments": {},
            "cell_type": "markdown",
            "metadata": {},
            "source": [
                "**Did the program run successfully? If yes, summarise the results, otherwise, describe what went wrong and your attempt(s) to fix it.**"
            ]
        },
        {
            "attachments": {},
            "cell_type": "markdown",
            "metadata": {},
            "source": [
                "Yes, it ran successfully. My goal is to predict how long (in days) a patient stays at a hospital based on their age, gender, race, total cost, and diagnositc-related group. The results were a bunch of predicted numbers for length of stay. The highest accuracy score for the model is 72%, which I considered is a success."
            ]
        },
        {
            "attachments": {},
            "cell_type": "markdown",
            "metadata": {},
            "source": [
                "**Insert github link for lab 2**\n",
                "\n",
                "[How to create a github repository and upload files](https://drive.google.com/file/d/1XmCQTco7y8ikB9RGiY3LhONylRuReQ8X/view)."
            ]
        },
        {
            "attachments": {},
            "cell_type": "markdown",
            "metadata": {},
            "source": [
                "https://github.com/HongN33/AI4ALL"
            ]
        }
    ]
}
